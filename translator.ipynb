{
 "cells": [
  {
   "cell_type": "code",
   "execution_count": 1,
   "metadata": {},
   "outputs": [],
   "source": [
    "import openai\n",
    "import os\n",
    "\n",
    "from dotenv import load_dotenv, find_dotenv\n",
    "_ = load_dotenv(find_dotenv())\n",
    "\n",
    "openai.api_key  = os.getenv('OPENAI_API_KEY')"
   ]
  },
  {
   "cell_type": "code",
   "execution_count": 2,
   "metadata": {},
   "outputs": [],
   "source": [
    "client = openai.OpenAI()\n",
    "\n",
    "def get_completion(prompt, model=\"gpt-4o\"):\n",
    "    messages = [\n",
    "        {\"role\": \"system\", \"content\": \"You are a custom GPT called Novel Translator. Novel Translator specializes in translating fantasy, wuxia, and xianxia Chinese web novels into English, focusing on accurate translations of cultural references, idiomatic expressions, and genre-specific terminology like cultivator ranks and power systems. It ensures translations are well-formatted, capitalizing only the first letter of character names and leaving them untranslated (e.g., 'Yan Jianyue'). The GPT avoids incorrect translations of names and uses appropriate pronouns, aiming to include a glossary to prevent errors. It provides translations directly without additional conversation, focusing solely on the output quality and accuracy. Novel Translator will now be able to learn from already translated chapters to maintain consistency in style, tone, and formatting as exemplified by translations provided.\"},\n",
    "        {\"role\": \"user\", \"content\": prompt}\n",
    "    ]\n",
    "    response = client.chat.completions.create(\n",
    "        model=model,    \n",
    "        messages=messages,\n",
    "        temperature=0,\n",
    "    )\n",
    "    return response.choices[0].message.content"
   ]
  },
  {
   "cell_type": "code",
   "execution_count": 3,
   "metadata": {},
   "outputs": [],
   "source": [
    "import requests\n",
    "from bs4 import BeautifulSoup\n",
    "import re\n",
    "import os\n",
    "from ebooklib import epub"
   ]
  },
  {
   "cell_type": "markdown",
   "metadata": {},
   "source": [
    "## Scrape and Translate"
   ]
  },
  {
   "cell_type": "code",
   "execution_count": 4,
   "metadata": {},
   "outputs": [],
   "source": [
    "\n",
    "def scrape(chapter_url):\n",
    "    html_text = requests.get(chapter_url).text\n",
    "    soup = BeautifulSoup(html_text, 'lxml')\n",
    "\n",
    "    # Find the chapter heading\n",
    "    chapter_heading = soup.find('h1', id='chapter-heading').get_text()\n",
    "\n",
    "    # Sanitize the chapter heading to create a valid filename\n",
    "    valid_filename = re.sub(r'[^\\w\\-_\\. ]', '_', chapter_heading)\n",
    "\n",
    "    # Find the div with class 'text-left'\n",
    "    text_left_div = soup.find('div', class_='text-left')\n",
    "\n",
    "    # Find all <p> elements within this div\n",
    "    paragraphs = text_left_div.find_all('p')\n",
    "\n",
    "    # Combine the text of each <p> element into one string\n",
    "    combined_text = ' '.join(p.get_text() for p in paragraphs)\n",
    "\n",
    "    # Create the folder if it doesn't exist\n",
    "    # folder_name = 'Flashing_Genius'\n",
    "    # folder_name = 'RTOC'\n",
    "    return combined_text, valid_filename, chapter_heading\n",
    "def translate(combined_text):\n",
    "    prompt = f\"\"\"\n",
    "Translate the text delimited by triple backticks into English. Make sure the text is well formatted with spacing between sentences.\n",
    "```{combined_text}```\n",
    "\"\"\"\n",
    "    translated_text = get_completion(prompt)\n",
    "    # with open(os.path.join(folder_name,f'{valid_filename}TRANSLATED.txt'), \"w\") as f:\n",
    "    #     f.write(response)\n",
    "    # print(response)\n",
    "    return translated_text\n",
    "def create_raw_text_file(translated_text, folder_name, valid_filename):\n",
    "    with open(os.path.join(folder_name,f'{valid_filename}.txt'), \"w\") as f:\n",
    "        f.write(translated_text)\n",
    "def create_translated_text_file(translated_text, folder_name, valid_filename):\n",
    "    with open(os.path.join(folder_name,f'{valid_filename}TRANSLATED.txt'), \"w\") as f:\n",
    "        f.write(translated_text)"
   ]
  },
  {
   "cell_type": "code",
   "execution_count": 8,
   "metadata": {},
   "outputs": [],
   "source": [
    "chapter_range = [num for num in range(201, 251)]"
   ]
  },
  {
   "cell_type": "markdown",
   "metadata": {},
   "source": [
    "# Create Raw Files"
   ]
  },
  {
   "cell_type": "code",
   "execution_count": 9,
   "metadata": {},
   "outputs": [],
   "source": [
    "for chapter_num in chapter_range:\n",
    "    # chapter_url = f\"https://www.fortuneeternal.com/novel/a-regressors-tale-of-cultivation-raw-novel/chapter-{chapter_num}/\"\n",
    "    chapter_url = f\"https://www.fortuneeternal.com/novel/i-became-a-flashing-genius-at-the-magic-academy-raw-novel/chapter-{chapter_num}/\"\n",
    "    combined_text, valid_filename, chapter_heading = scrape(chapter_url)\n",
    "    # create_raw_text_file(combined_text, 'RTOC-raw', valid_filename)\n",
    "    create_raw_text_file(combined_text, 'Flashing_Genius-raw', valid_filename)\n"
   ]
  },
  {
   "cell_type": "markdown",
   "metadata": {},
   "source": [
    "## Create Translations"
   ]
  },
  {
   "cell_type": "code",
   "execution_count": 10,
   "metadata": {},
   "outputs": [
    {
     "name": "stdout",
     "output_type": "stream",
     "text": [
      "Translating: I Became A Flashing Genius At The Magic Academy RAW novel - Chapter _192_.txt\n",
      "Finished translating: I Became A Flashing Genius At The Magic Academy RAW novel - Chapter _192_.txt\n",
      "Saved translated file: Flashing Genius - Chapter 192 TRANSLATED.txt\n",
      "Translating: I Became A Flashing Genius At The Magic Academy RAW novel - Chapter _193_.txt\n",
      "Finished translating: I Became A Flashing Genius At The Magic Academy RAW novel - Chapter _193_.txt\n",
      "Saved translated file: Flashing Genius - Chapter 193 TRANSLATED.txt\n",
      "Translating: I Became A Flashing Genius At The Magic Academy RAW novel - Chapter _194_.txt\n",
      "Finished translating: I Became A Flashing Genius At The Magic Academy RAW novel - Chapter _194_.txt\n",
      "Saved translated file: Flashing Genius - Chapter 194 TRANSLATED.txt\n",
      "Translating: I Became A Flashing Genius At The Magic Academy RAW novel - Chapter _195_.txt\n",
      "Finished translating: I Became A Flashing Genius At The Magic Academy RAW novel - Chapter _195_.txt\n",
      "Saved translated file: Flashing Genius - Chapter 195 TRANSLATED.txt\n",
      "Translating: I Became A Flashing Genius At The Magic Academy RAW novel - Chapter _196_.txt\n",
      "Finished translating: I Became A Flashing Genius At The Magic Academy RAW novel - Chapter _196_.txt\n",
      "Saved translated file: Flashing Genius - Chapter 196 TRANSLATED.txt\n",
      "Translating: I Became A Flashing Genius At The Magic Academy RAW novel - Chapter _197_.txt\n",
      "Finished translating: I Became A Flashing Genius At The Magic Academy RAW novel - Chapter _197_.txt\n",
      "Saved translated file: Flashing Genius - Chapter 197 TRANSLATED.txt\n",
      "Translating: I Became A Flashing Genius At The Magic Academy RAW novel - Chapter _198_.txt\n",
      "Finished translating: I Became A Flashing Genius At The Magic Academy RAW novel - Chapter _198_.txt\n",
      "Saved translated file: Flashing Genius - Chapter 198 TRANSLATED.txt\n",
      "Translating: I Became A Flashing Genius At The Magic Academy RAW novel - Chapter _199_.txt\n",
      "Finished translating: I Became A Flashing Genius At The Magic Academy RAW novel - Chapter _199_.txt\n",
      "Saved translated file: Flashing Genius - Chapter 199 TRANSLATED.txt\n",
      "Translating: I Became A Flashing Genius At The Magic Academy RAW novel - Chapter _200_.txt\n",
      "Finished translating: I Became A Flashing Genius At The Magic Academy RAW novel - Chapter _200_.txt\n",
      "Saved translated file: Flashing Genius - Chapter 200 TRANSLATED.txt\n",
      "Translating: I Became A Flashing Genius At The Magic Academy RAW novel - Chapter _201_.txt\n",
      "Finished translating: I Became A Flashing Genius At The Magic Academy RAW novel - Chapter _201_.txt\n",
      "Saved translated file: Flashing Genius - Chapter 201 TRANSLATED.txt\n",
      "Translating: I Became A Flashing Genius At The Magic Academy RAW novel - Chapter _202_.txt\n",
      "Finished translating: I Became A Flashing Genius At The Magic Academy RAW novel - Chapter _202_.txt\n",
      "Saved translated file: Flashing Genius - Chapter 202 TRANSLATED.txt\n",
      "Translating: I Became A Flashing Genius At The Magic Academy RAW novel - Chapter _203_.txt\n",
      "Finished translating: I Became A Flashing Genius At The Magic Academy RAW novel - Chapter _203_.txt\n",
      "Saved translated file: Flashing Genius - Chapter 203 TRANSLATED.txt\n",
      "Translating: I Became A Flashing Genius At The Magic Academy RAW novel - Chapter _204_.txt\n",
      "Finished translating: I Became A Flashing Genius At The Magic Academy RAW novel - Chapter _204_.txt\n",
      "Saved translated file: Flashing Genius - Chapter 204 TRANSLATED.txt\n",
      "Translating: I Became A Flashing Genius At The Magic Academy RAW novel - Chapter _205_.txt\n",
      "Finished translating: I Became A Flashing Genius At The Magic Academy RAW novel - Chapter _205_.txt\n",
      "Saved translated file: Flashing Genius - Chapter 205 TRANSLATED.txt\n",
      "Translating: I Became A Flashing Genius At The Magic Academy RAW novel - Chapter _206_.txt\n",
      "Finished translating: I Became A Flashing Genius At The Magic Academy RAW novel - Chapter _206_.txt\n",
      "Saved translated file: Flashing Genius - Chapter 206 TRANSLATED.txt\n",
      "Translating: I Became A Flashing Genius At The Magic Academy RAW novel - Chapter _207_.txt\n",
      "Finished translating: I Became A Flashing Genius At The Magic Academy RAW novel - Chapter _207_.txt\n",
      "Saved translated file: Flashing Genius - Chapter 207 TRANSLATED.txt\n",
      "Translating: I Became A Flashing Genius At The Magic Academy RAW novel - Chapter _208_.txt\n",
      "Finished translating: I Became A Flashing Genius At The Magic Academy RAW novel - Chapter _208_.txt\n",
      "Saved translated file: Flashing Genius - Chapter 208 TRANSLATED.txt\n",
      "Translating: I Became A Flashing Genius At The Magic Academy RAW novel - Chapter _209_.txt\n",
      "Finished translating: I Became A Flashing Genius At The Magic Academy RAW novel - Chapter _209_.txt\n",
      "Saved translated file: Flashing Genius - Chapter 209 TRANSLATED.txt\n",
      "Translating: I Became A Flashing Genius At The Magic Academy RAW novel - Chapter _210_.txt\n",
      "Finished translating: I Became A Flashing Genius At The Magic Academy RAW novel - Chapter _210_.txt\n",
      "Saved translated file: Flashing Genius - Chapter 210 TRANSLATED.txt\n",
      "Translating: I Became A Flashing Genius At The Magic Academy RAW novel - Chapter _211_.txt\n",
      "Finished translating: I Became A Flashing Genius At The Magic Academy RAW novel - Chapter _211_.txt\n",
      "Saved translated file: Flashing Genius - Chapter 211 TRANSLATED.txt\n",
      "Translating: I Became A Flashing Genius At The Magic Academy RAW novel - Chapter _212_.txt\n",
      "Finished translating: I Became A Flashing Genius At The Magic Academy RAW novel - Chapter _212_.txt\n",
      "Saved translated file: Flashing Genius - Chapter 212 TRANSLATED.txt\n",
      "Translating: I Became A Flashing Genius At The Magic Academy RAW novel - Chapter _213_.txt\n",
      "Finished translating: I Became A Flashing Genius At The Magic Academy RAW novel - Chapter _213_.txt\n",
      "Saved translated file: Flashing Genius - Chapter 213 TRANSLATED.txt\n",
      "Translating: I Became A Flashing Genius At The Magic Academy RAW novel - Chapter _214_.txt\n",
      "Finished translating: I Became A Flashing Genius At The Magic Academy RAW novel - Chapter _214_.txt\n",
      "Saved translated file: Flashing Genius - Chapter 214 TRANSLATED.txt\n",
      "Translating: I Became A Flashing Genius At The Magic Academy RAW novel - Chapter _215_.txt\n",
      "Finished translating: I Became A Flashing Genius At The Magic Academy RAW novel - Chapter _215_.txt\n",
      "Saved translated file: Flashing Genius - Chapter 215 TRANSLATED.txt\n",
      "Translating: I Became A Flashing Genius At The Magic Academy RAW novel - Chapter _216_.txt\n"
     ]
    }
   ],
   "source": [
    "# raw_folder = 'RTOC-raw'\n",
    "# translated_folder = 'RTOC'\n",
    "raw_folder = 'Flashing_Genius-raw'\n",
    "translated_folder = 'Flashing_Genius'\n",
    "translate_range = range(192, 222)  # Example: Translate chapters 291 to 292\n",
    "\n",
    "\n",
    "for chapter_num in translate_range:\n",
    "    # filename = f'A Regressor_s Tale of Cultivation RAW novel - Chapter _{chapter_num}_.txt'\n",
    "    # valid_filename = f'A Regressor_s Tale of Cultivation RAW novel - Chapter _{chapter_num}_'\n",
    "    filename = f'I Became A Flashing Genius At The Magic Academy RAW novel - Chapter _{chapter_num}_.txt'\n",
    "    valid_filename = f'Flashing Genius - Chapter {chapter_num} '\n",
    "    \n",
    "    if os.path.exists(os.path.join(raw_folder, filename)):\n",
    "        with open(os.path.join(raw_folder, filename), 'r', encoding='utf-8') as file:\n",
    "            raw_text = file.read()\n",
    "        # print(raw_text)\n",
    "        print(f\"Translating: {filename}\")\n",
    "        translated_text = translate(raw_text)\n",
    "        print(f\"Finished translating: {filename}\")\n",
    "        \n",
    "        create_translated_text_file(translated_text, translated_folder, valid_filename)\n",
    "        print(f\"Saved translated file: {valid_filename}TRANSLATED.txt\")\n",
    "    else:\n",
    "        print(f\"File not found: {filename}\")"
   ]
  },
  {
   "cell_type": "markdown",
   "metadata": {},
   "source": [
    "## Scrape Raw + Translations"
   ]
  },
  {
   "cell_type": "code",
   "execution_count": 13,
   "metadata": {},
   "outputs": [
    {
     "ename": "AttributeError",
     "evalue": "'NoneType' object has no attribute 'get_text'",
     "output_type": "error",
     "traceback": [
      "\u001b[1;31m---------------------------------------------------------------------------\u001b[0m",
      "\u001b[1;31mAttributeError\u001b[0m                            Traceback (most recent call last)",
      "Cell \u001b[1;32mIn[13], line 5\u001b[0m\n\u001b[0;32m      3\u001b[0m \u001b[38;5;28;01mfor\u001b[39;00m chapter_no \u001b[38;5;129;01min\u001b[39;00m chapter_range:\n\u001b[0;32m      4\u001b[0m     URL \u001b[38;5;241m=\u001b[39m \u001b[38;5;124mf\u001b[39m\u001b[38;5;124m\"\u001b[39m\u001b[38;5;124mhttps://www.fortuneeternal.com/novel/a-regressors-tale-of-cultivation-raw-novel/chapter-\u001b[39m\u001b[38;5;132;01m{\u001b[39;00mchapter_no\u001b[38;5;132;01m}\u001b[39;00m\u001b[38;5;124m/\u001b[39m\u001b[38;5;124m\"\u001b[39m\n\u001b[1;32m----> 5\u001b[0m     combined_text, valid_filename, chapter_heading \u001b[38;5;241m=\u001b[39m \u001b[43mscrape\u001b[49m\u001b[43m(\u001b[49m\u001b[43mURL\u001b[49m\u001b[43m)\u001b[49m\n\u001b[0;32m      6\u001b[0m     \u001b[38;5;28mprint\u001b[39m(\u001b[38;5;124mf\u001b[39m\u001b[38;5;124m\"\u001b[39m\u001b[38;5;124mFinished scraping: \u001b[39m\u001b[38;5;132;01m{\u001b[39;00mchapter_heading\u001b[38;5;132;01m}\u001b[39;00m\u001b[38;5;124m\"\u001b[39m)\n\u001b[0;32m      7\u001b[0m     \u001b[38;5;28mprint\u001b[39m(\u001b[38;5;124mf\u001b[39m\u001b[38;5;124m\"\u001b[39m\u001b[38;5;124mTranslating: \u001b[39m\u001b[38;5;132;01m{\u001b[39;00mchapter_heading\u001b[38;5;132;01m}\u001b[39;00m\u001b[38;5;124m\"\u001b[39m)\n",
      "Cell \u001b[1;32mIn[10], line 6\u001b[0m, in \u001b[0;36mscrape\u001b[1;34m(chapter_url)\u001b[0m\n\u001b[0;32m      3\u001b[0m soup \u001b[38;5;241m=\u001b[39m BeautifulSoup(html_text, \u001b[38;5;124m'\u001b[39m\u001b[38;5;124mlxml\u001b[39m\u001b[38;5;124m'\u001b[39m)\n\u001b[0;32m      5\u001b[0m \u001b[38;5;66;03m# Find the chapter heading\u001b[39;00m\n\u001b[1;32m----> 6\u001b[0m chapter_heading \u001b[38;5;241m=\u001b[39m \u001b[43msoup\u001b[49m\u001b[38;5;241;43m.\u001b[39;49m\u001b[43mfind\u001b[49m\u001b[43m(\u001b[49m\u001b[38;5;124;43m'\u001b[39;49m\u001b[38;5;124;43mh1\u001b[39;49m\u001b[38;5;124;43m'\u001b[39;49m\u001b[43m,\u001b[49m\u001b[43m \u001b[49m\u001b[38;5;28;43mid\u001b[39;49m\u001b[38;5;241;43m=\u001b[39;49m\u001b[38;5;124;43m'\u001b[39;49m\u001b[38;5;124;43mchapter-heading\u001b[39;49m\u001b[38;5;124;43m'\u001b[39;49m\u001b[43m)\u001b[49m\u001b[38;5;241;43m.\u001b[39;49m\u001b[43mget_text\u001b[49m()\n\u001b[0;32m      8\u001b[0m \u001b[38;5;66;03m# Sanitize the chapter heading to create a valid filename\u001b[39;00m\n\u001b[0;32m      9\u001b[0m valid_filename \u001b[38;5;241m=\u001b[39m re\u001b[38;5;241m.\u001b[39msub(\u001b[38;5;124mr\u001b[39m\u001b[38;5;124m'\u001b[39m\u001b[38;5;124m[^\u001b[39m\u001b[38;5;124m\\\u001b[39m\u001b[38;5;124mw\u001b[39m\u001b[38;5;124m\\\u001b[39m\u001b[38;5;124m-_\u001b[39m\u001b[38;5;124m\\\u001b[39m\u001b[38;5;124m. ]\u001b[39m\u001b[38;5;124m'\u001b[39m, \u001b[38;5;124m'\u001b[39m\u001b[38;5;124m_\u001b[39m\u001b[38;5;124m'\u001b[39m, chapter_heading)\n",
      "\u001b[1;31mAttributeError\u001b[0m: 'NoneType' object has no attribute 'get_text'"
     ]
    }
   ],
   "source": [
    "folder_name = \"RTOC\"\n",
    "\n",
    "for chapter_no in chapter_range:\n",
    "    URL = f\"https://www.fortuneeternal.com/novel/a-regressors-tale-of-cultivation-raw-novel/chapter-{chapter_no}/\"\n",
    "    combined_text, valid_filename, chapter_heading = scrape(URL)\n",
    "    print(f\"Finished scraping: {chapter_heading}\")\n",
    "    print(f\"Translating: {chapter_heading}\")\n",
    "    translated_text = translate(combined_text)\n",
    "    print(f\"Finished translating: {chapter_heading}\")\n",
    "    create_translated_text_file(translated_text, folder_name, valid_filename)"
   ]
  },
  {
   "cell_type": "markdown",
   "metadata": {},
   "source": [
    "# Create EPUB"
   ]
  },
  {
   "cell_type": "code",
   "execution_count": 13,
   "metadata": {},
   "outputs": [
    {
     "name": "stdout",
     "output_type": "stream",
     "text": [
      "EPUB file created: EPUBS\\A Regressor's Tale of Cultivation - GPTL.epub\n"
     ]
    }
   ],
   "source": [
    "import os\n",
    "from ebooklib import epub\n",
    "\n",
    "book = epub.EpubBook()\n",
    "book.set_identifier('id123456')\n",
    "book.set_title(\"A Regressor's Tale of Cultivation - GPTL\")\n",
    "book.set_language('en')\n",
    "book.add_author('Tremendous - 엄청난')\n",
    "\n",
    "translated_folder = 'RTOC'\n",
    "\n",
    "for filename in os.listdir(translated_folder):\n",
    "    if filename.endswith('TRANSLATED.txt'):\n",
    "        with open(os.path.join(translated_folder, filename), 'r', encoding='utf-8') as file:\n",
    "            translated_text = file.read()\n",
    "        \n",
    "        # Use the filename (without extension) as the chapter heading\n",
    "        chapter_heading = filename.replace('TRANSLATED.txt', '').replace('_', ' ')\n",
    "        \n",
    "        # Create an EPUB chapter\n",
    "        chapter = epub.EpubHtml(title=chapter_heading, file_name=f'{filename}.xhtml', lang='en')\n",
    "        chapter.content = f'<h1>{chapter_heading}</h1><p>{translated_text.replace(\"\\n\", \"</p><p>\")}</p>'\n",
    "        \n",
    "        # Add chapter to the book\n",
    "        book.add_item(chapter)\n",
    "        book.toc.append(chapter)\n",
    "        book.spine.append(chapter)\n",
    "\n",
    "book.add_item(epub.EpubNcx())\n",
    "book.add_item(epub.EpubNav())\n",
    "\n",
    "style = 'BODY {color: white;}'\n",
    "nav_css = epub.EpubItem(uid=\"style_nav\", file_name=\"style/nav.css\", media_type=\"text/css\", content=style)\n",
    "book.add_item(nav_css)\n",
    "\n",
    "book.spine.append('nav')\n",
    "book.spine.append('cover')\n",
    "book.spine.append('title_page')\n",
    "\n",
    "folder_name = \"EPUBS\"\n",
    "os.makedirs(folder_name, exist_ok=True)\n",
    "\n",
    "epub_filename = os.path.join(folder_name, 'A Regressor\\'s Tale of Cultivation - GPTL.epub')\n",
    "epub.write_epub(epub_filename, book, {})\n",
    "\n",
    "print(f'EPUB file created: {epub_filename}')"
   ]
  },
  {
   "cell_type": "markdown",
   "metadata": {},
   "source": [
    "# Full Code Integration\n"
   ]
  },
  {
   "cell_type": "code",
   "execution_count": null,
   "metadata": {},
   "outputs": [],
   "source": [
    "book = epub.EpubBook()\n",
    "book.set_identifier('id123456')\n",
    "book.set_title(\"A Regressor's Tale of Cultivation - GPTL\")\n",
    "book.set_language('en')\n",
    "book.add_author('Tremendous - 엄청난')\n",
    "\n",
    "folder_name = \"RTOC\"\n",
    "\n",
    "for chapter_no in chapter_range:\n",
    "    URL = f\"https://www.fortuneeternal.com/novel/a-regressors-tale-of-cultivation-raw-novel/chapter-{chapter_no}/\"\n",
    "    combined_text, valid_filename, chapter_heading = scrape(URL)\n",
    "    print(f\"Finished scraping: {chapter_heading}\")\n",
    "    print(f\"Translating: {chapter_heading}\")\n",
    "    translated_text = translate(combined_text)\n",
    "    print(f\"Finished translating: {chapter_heading}\")\n",
    "    create_translated_text_file(translated_text, folder_name, valid_filename)\n",
    "    chapter = epub.EpubHtml(title=chapter_heading, file_name=f'{chapter_heading}.xhtml', lang='en')\n",
    "    chapter.content = f'<h1>{chapter_heading}</h1><p>{translated_text}</p>'\n",
    "    book.add_item(chapter)\n",
    "    book.toc.append(chapter)\n",
    "    book.spine.append(chapter)\n",
    "\n",
    "book.add_item(epub.EpubNcx())\n",
    "book.add_item(epub.EpubNav())\n",
    "\n",
    "style = 'BODY {color: white;}'\n",
    "nav_css = epub.EpubItem(uid=\"style_nav\", file_name=\"style/nav.css\", media_type=\"text/css\", content=style)\n",
    "book.add_item(nav_css)\n",
    "\n",
    "book.spine.append('nav')\n",
    "book.spine.append('cover')\n",
    "book.spine.append('title_page')\n",
    "\n",
    "epub.write_epub('A Regressor\\'s Tale of Cultivation - GPTL.epub', book, {})"
   ]
  },
  {
   "cell_type": "code",
   "execution_count": null,
   "metadata": {},
   "outputs": [],
   "source": [
    "# URL = f\"https://www.fortuneeternal.com/novel/a-regressors-tale-of-cultivation-raw-novel/chapter-{}/\"\n",
    "# URL = \"https://www.fortuneeternal.com/novel/i-became-a-flashing-genius-at-the-magic-academy-raw-novel/chapter-145/\""
   ]
  },
  {
   "cell_type": "code",
   "execution_count": 7,
   "metadata": {},
   "outputs": [],
   "source": [
    "book = epub.EpubBook()\n",
    "\n",
    "# set metadata\n",
    "book.set_identifier(\"id123456\")\n",
    "book.set_title(\"Sample book\")\n",
    "book.set_language(\"en\")\n",
    "\n",
    "book.add_author(\"Author Authorowski\")\n",
    "book.add_author(\n",
    "    \"Danko Bananko\",\n",
    "    file_as=\"Gospodin Danko Bananko\",\n",
    "    role=\"ill\",\n",
    "    uid=\"coauthor\",\n",
    ")\n",
    "\n",
    "# create chapter\n",
    "c1 = epub.EpubHtml(title=\"Intro\", file_name=\"chap_01.xhtml\", lang=\"hr\")\n",
    "c1.content = (\n",
    "    \"<h1>Intro heading</h1>\"\n",
    "    \"<p>Zaba je skocila u baru.</p>\"\n",
    "    '<p><img alt=\"[ebook logo]\" src=\"static/ebooklib.gif\"/><br/></p>'\n",
    ")\n",
    "\n",
    "# create image from the local image\n",
    "# image_content = open(\"ebooklib.gif\", \"rb\").read()\n",
    "# img = epub.EpubImage(\n",
    "#     uid=\"image_1\",\n",
    "#     file_name=\"static/ebooklib.gif\",\n",
    "#     media_type=\"image/gif\",\n",
    "#     content=image_content,\n",
    "# )\n",
    "\n",
    "# add chapter\n",
    "book.add_item(c1)\n",
    "# add image\n",
    "# book.add_item(img)\n",
    "\n",
    "# define Table Of Contents\n",
    "book.toc = (\n",
    "    epub.Link(\"chap_01.xhtml\", \"Introduction\", \"intro\"),\n",
    "    (epub.Section(\"Simple book\"), (c1,)),\n",
    ")\n",
    "\n",
    "# add default NCX and Nav file\n",
    "book.add_item(epub.EpubNcx())\n",
    "book.add_item(epub.EpubNav())\n",
    "\n",
    "# define CSS style\n",
    "style = \"BODY {color: white;}\"\n",
    "nav_css = epub.EpubItem(\n",
    "    uid=\"style_nav\",\n",
    "    file_name=\"style/nav.css\",\n",
    "    media_type=\"text/css\",\n",
    "    content=style,\n",
    ")\n",
    "\n",
    "# add CSS file\n",
    "book.add_item(nav_css)\n",
    "\n",
    "# basic spine\n",
    "book.spine = [\"nav\", c1]\n",
    "\n",
    "# write to the file\n",
    "epub.write_epub(\"test.epub\", book, {})"
   ]
  }
 ],
 "metadata": {
  "kernelspec": {
   "display_name": "lightnovelscraper",
   "language": "python",
   "name": "python3"
  },
  "language_info": {
   "codemirror_mode": {
    "name": "ipython",
    "version": 3
   },
   "file_extension": ".py",
   "mimetype": "text/x-python",
   "name": "python",
   "nbconvert_exporter": "python",
   "pygments_lexer": "ipython3",
   "version": "3.12.3"
  }
 },
 "nbformat": 4,
 "nbformat_minor": 2
}
