{
 "cells": [
  {
   "cell_type": "code",
   "execution_count": 1,
   "metadata": {},
   "outputs": [],
   "source": [
    "import openai\n",
    "import os\n",
    "\n",
    "from dotenv import load_dotenv, find_dotenv\n",
    "_ = load_dotenv(find_dotenv())\n",
    "\n",
    "openai.api_key  = os.getenv('OPENAI_API_KEY')"
   ]
  },
  {
   "cell_type": "code",
   "execution_count": 2,
   "metadata": {},
   "outputs": [],
   "source": [
    "client = openai.OpenAI()\n",
    "\n",
    "def get_completion(prompt, model=\"gpt-4o\"):\n",
    "    messages = [\n",
    "        {\"role\": \"system\", \"content\": \"You are a custom GPT called Novel Translator. Novel Translator specializes in translating fantasy, wuxia, and xianxia Chinese web novels into English, focusing on accurate translations of cultural references, idiomatic expressions, and genre-specific terminology like cultivator ranks and power systems. It ensures translations are well-formatted, capitalizing only the first letter of character names and leaving them untranslated (e.g., 'Yan Jianyue'). The GPT avoids incorrect translations of names and uses appropriate pronouns, aiming to include a glossary to prevent errors. It provides translations directly without additional conversation, focusing solely on the output quality and accuracy. Novel Translator will now be able to learn from already translated chapters to maintain consistency in style, tone, and formatting as exemplified by translations provided.\"},\n",
    "        {\"role\": \"user\", \"content\": prompt}\n",
    "    ]\n",
    "    response = client.chat.completions.create(\n",
    "        model=model,    \n",
    "        messages=messages,\n",
    "        temperature=0,\n",
    "    )\n",
    "    return response.choices[0].message.content"
   ]
  },
  {
   "cell_type": "code",
   "execution_count": 3,
   "metadata": {},
   "outputs": [],
   "source": [
    "import requests\n",
    "from bs4 import BeautifulSoup\n",
    "import re\n",
    "import os\n",
    "from ebooklib import epub"
   ]
  },
  {
   "cell_type": "markdown",
   "metadata": {},
   "source": [
    "## Scrape and Translate"
   ]
  },
  {
   "cell_type": "code",
   "execution_count": 4,
   "metadata": {},
   "outputs": [],
   "source": [
    "\n",
    "def scrape(chapter_url):\n",
    "    html_text = requests.get(chapter_url).text\n",
    "    soup = BeautifulSoup(html_text, 'lxml')\n",
    "\n",
    "    # Find the chapter heading\n",
    "    chapter_heading = soup.find('h1', id='chapter-heading').get_text()\n",
    "\n",
    "    # Sanitize the chapter heading to create a valid filename\n",
    "    valid_filename = re.sub(r'[^\\w\\-_\\. ]', '_', chapter_heading)\n",
    "\n",
    "    # Find the div with class 'text-left'\n",
    "    text_left_div = soup.find('div', class_='text-left')\n",
    "\n",
    "    # Find all <p> elements within this div\n",
    "    paragraphs = text_left_div.find_all('p')\n",
    "\n",
    "    # Combine the text of each <p> element into one string\n",
    "    combined_text = ' '.join(p.get_text() for p in paragraphs)\n",
    "\n",
    "    # Create the folder if it doesn't exist\n",
    "    # folder_name = 'Flashing_Genius'\n",
    "    # folder_name = 'RTOC'\n",
    "    return combined_text, valid_filename, chapter_heading\n",
    "def translate(combined_text):\n",
    "    prompt = f\"\"\"\n",
    "Translate the text delimited by triple backticks into English. Make sure the text is well formatted with spacing between sentences.\n",
    "```{combined_text}```\n",
    "\"\"\"\n",
    "    translated_text = get_completion(prompt)\n",
    "    # with open(os.path.join(folder_name,f'{valid_filename}TRANSLATED.txt'), \"w\") as f:\n",
    "    #     f.write(response)\n",
    "    # print(response)\n",
    "    return translated_text\n",
    "def create_raw_text_file(translated_text, folder_name, valid_filename):\n",
    "    with open(os.path.join(folder_name,f'{valid_filename}.txt'), \"w\") as f:\n",
    "        f.write(translated_text)\n",
    "def create_translated_text_file(translated_text, folder_name, valid_filename):\n",
    "    with open(os.path.join(folder_name,f'{valid_filename}TRANSLATED.txt'), \"w\") as f:\n",
    "        f.write(translated_text)"
   ]
  },
  {
   "cell_type": "code",
   "execution_count": 5,
   "metadata": {},
   "outputs": [],
   "source": [
    "chapter_range = [num for num in range(312, 315)]"
   ]
  },
  {
   "cell_type": "markdown",
   "metadata": {},
   "source": [
    "# Create Raw Files"
   ]
  },
  {
   "cell_type": "code",
   "execution_count": 10,
   "metadata": {},
   "outputs": [],
   "source": [
    "for chapter_num in chapter_range:\n",
    "    chapter_url = f\"https://www.fortuneeternal.com/novel/a-regressors-tale-of-cultivation-raw-novel/chapter-{chapter_num}/\"\n",
    "    combined_text, valid_filename, chapter_heading = scrape(chapter_url)\n",
    "    create_raw_text_file(combined_text, 'RTOC-raw', valid_filename)"
   ]
  },
  {
   "cell_type": "markdown",
   "metadata": {},
   "source": [
    "## Create Translations"
   ]
  },
  {
   "cell_type": "code",
   "execution_count": 9,
   "metadata": {},
   "outputs": [
    {
     "name": "stdout",
     "output_type": "stream",
     "text": [
      "Translating: A Regressor_s Tale of Cultivation RAW novel - Chapter _323_.txt\n",
      "Finished translating: A Regressor_s Tale of Cultivation RAW novel - Chapter _323_.txt\n",
      "Saved translated file: A Regressor_s Tale of Cultivation RAW novel - Chapter _323_TRANSLATED.txt\n",
      "Translating: A Regressor_s Tale of Cultivation RAW novel - Chapter _324_.txt\n",
      "Finished translating: A Regressor_s Tale of Cultivation RAW novel - Chapter _324_.txt\n",
      "Saved translated file: A Regressor_s Tale of Cultivation RAW novel - Chapter _324_TRANSLATED.txt\n",
      "Translating: A Regressor_s Tale of Cultivation RAW novel - Chapter _325_.txt\n",
      "Finished translating: A Regressor_s Tale of Cultivation RAW novel - Chapter _325_.txt\n",
      "Saved translated file: A Regressor_s Tale of Cultivation RAW novel - Chapter _325_TRANSLATED.txt\n",
      "Translating: A Regressor_s Tale of Cultivation RAW novel - Chapter _326_.txt\n",
      "Finished translating: A Regressor_s Tale of Cultivation RAW novel - Chapter _326_.txt\n",
      "Saved translated file: A Regressor_s Tale of Cultivation RAW novel - Chapter _326_TRANSLATED.txt\n",
      "Translating: A Regressor_s Tale of Cultivation RAW novel - Chapter _327_.txt\n",
      "Finished translating: A Regressor_s Tale of Cultivation RAW novel - Chapter _327_.txt\n",
      "Saved translated file: A Regressor_s Tale of Cultivation RAW novel - Chapter _327_TRANSLATED.txt\n",
      "Translating: A Regressor_s Tale of Cultivation RAW novel - Chapter _328_.txt\n",
      "Finished translating: A Regressor_s Tale of Cultivation RAW novel - Chapter _328_.txt\n",
      "Saved translated file: A Regressor_s Tale of Cultivation RAW novel - Chapter _328_TRANSLATED.txt\n",
      "Translating: A Regressor_s Tale of Cultivation RAW novel - Chapter _329_.txt\n",
      "Finished translating: A Regressor_s Tale of Cultivation RAW novel - Chapter _329_.txt\n",
      "Saved translated file: A Regressor_s Tale of Cultivation RAW novel - Chapter _329_TRANSLATED.txt\n",
      "Translating: A Regressor_s Tale of Cultivation RAW novel - Chapter _330_.txt\n",
      "Finished translating: A Regressor_s Tale of Cultivation RAW novel - Chapter _330_.txt\n",
      "Saved translated file: A Regressor_s Tale of Cultivation RAW novel - Chapter _330_TRANSLATED.txt\n",
      "Translating: A Regressor_s Tale of Cultivation RAW novel - Chapter _331_.txt\n",
      "Finished translating: A Regressor_s Tale of Cultivation RAW novel - Chapter _331_.txt\n",
      "Saved translated file: A Regressor_s Tale of Cultivation RAW novel - Chapter _331_TRANSLATED.txt\n",
      "Translating: A Regressor_s Tale of Cultivation RAW novel - Chapter _332_.txt\n",
      "Finished translating: A Regressor_s Tale of Cultivation RAW novel - Chapter _332_.txt\n",
      "Saved translated file: A Regressor_s Tale of Cultivation RAW novel - Chapter _332_TRANSLATED.txt\n",
      "Translating: A Regressor_s Tale of Cultivation RAW novel - Chapter _333_.txt\n",
      "Finished translating: A Regressor_s Tale of Cultivation RAW novel - Chapter _333_.txt\n",
      "Saved translated file: A Regressor_s Tale of Cultivation RAW novel - Chapter _333_TRANSLATED.txt\n",
      "Translating: A Regressor_s Tale of Cultivation RAW novel - Chapter _334_.txt\n",
      "Finished translating: A Regressor_s Tale of Cultivation RAW novel - Chapter _334_.txt\n",
      "Saved translated file: A Regressor_s Tale of Cultivation RAW novel - Chapter _334_TRANSLATED.txt\n",
      "Translating: A Regressor_s Tale of Cultivation RAW novel - Chapter _335_.txt\n",
      "Finished translating: A Regressor_s Tale of Cultivation RAW novel - Chapter _335_.txt\n",
      "Saved translated file: A Regressor_s Tale of Cultivation RAW novel - Chapter _335_TRANSLATED.txt\n",
      "Translating: A Regressor_s Tale of Cultivation RAW novel - Chapter _336_.txt\n",
      "Finished translating: A Regressor_s Tale of Cultivation RAW novel - Chapter _336_.txt\n",
      "Saved translated file: A Regressor_s Tale of Cultivation RAW novel - Chapter _336_TRANSLATED.txt\n",
      "Translating: A Regressor_s Tale of Cultivation RAW novel - Chapter _337_.txt\n",
      "Finished translating: A Regressor_s Tale of Cultivation RAW novel - Chapter _337_.txt\n",
      "Saved translated file: A Regressor_s Tale of Cultivation RAW novel - Chapter _337_TRANSLATED.txt\n",
      "Translating: A Regressor_s Tale of Cultivation RAW novel - Chapter _338_.txt\n",
      "Finished translating: A Regressor_s Tale of Cultivation RAW novel - Chapter _338_.txt\n",
      "Saved translated file: A Regressor_s Tale of Cultivation RAW novel - Chapter _338_TRANSLATED.txt\n",
      "Translating: A Regressor_s Tale of Cultivation RAW novel - Chapter _339_.txt\n",
      "Finished translating: A Regressor_s Tale of Cultivation RAW novel - Chapter _339_.txt\n",
      "Saved translated file: A Regressor_s Tale of Cultivation RAW novel - Chapter _339_TRANSLATED.txt\n",
      "Translating: A Regressor_s Tale of Cultivation RAW novel - Chapter _340_.txt\n",
      "Finished translating: A Regressor_s Tale of Cultivation RAW novel - Chapter _340_.txt\n",
      "Saved translated file: A Regressor_s Tale of Cultivation RAW novel - Chapter _340_TRANSLATED.txt\n",
      "Translating: A Regressor_s Tale of Cultivation RAW novel - Chapter _341_.txt\n",
      "Finished translating: A Regressor_s Tale of Cultivation RAW novel - Chapter _341_.txt\n",
      "Saved translated file: A Regressor_s Tale of Cultivation RAW novel - Chapter _341_TRANSLATED.txt\n",
      "Translating: A Regressor_s Tale of Cultivation RAW novel - Chapter _342_.txt\n",
      "Finished translating: A Regressor_s Tale of Cultivation RAW novel - Chapter _342_.txt\n",
      "Saved translated file: A Regressor_s Tale of Cultivation RAW novel - Chapter _342_TRANSLATED.txt\n"
     ]
    }
   ],
   "source": [
    "raw_folder = 'RTOC-raw'\n",
    "translated_folder = 'RTOC'\n",
    "translate_range = range(323, 343)  # Example: Translate chapters 291 to 292\n",
    "\n",
    "\n",
    "for chapter_num in translate_range:\n",
    "    filename = f'A Regressor_s Tale of Cultivation RAW novel - Chapter _{chapter_num}_.txt'\n",
    "    valid_filename = f'A Regressor_s Tale of Cultivation RAW novel - Chapter _{chapter_num}_'\n",
    "    \n",
    "    if os.path.exists(os.path.join(raw_folder, filename)):\n",
    "        with open(os.path.join(raw_folder, filename), 'r', encoding='utf-8') as file:\n",
    "            raw_text = file.read()\n",
    "        # print(raw_text)\n",
    "        print(f\"Translating: {filename}\")\n",
    "        translated_text = translate(raw_text)\n",
    "        print(f\"Finished translating: {filename}\")\n",
    "        \n",
    "        create_translated_text_file(translated_text, translated_folder, valid_filename)\n",
    "        print(f\"Saved translated file: {valid_filename}TRANSLATED.txt\")\n",
    "    else:\n",
    "        print(f\"File not found: {filename}\")"
   ]
  },
  {
   "cell_type": "markdown",
   "metadata": {},
   "source": [
    "## Scrape Raw + Translations"
   ]
  },
  {
   "cell_type": "code",
   "execution_count": 6,
   "metadata": {},
   "outputs": [
    {
     "name": "stdout",
     "output_type": "stream",
     "text": [
      "Finished scraping: A Regressor’s Tale of Cultivation RAW novel - Chapter (312)\n",
      "Translating: A Regressor’s Tale of Cultivation RAW novel - Chapter (312)\n"
     ]
    }
   ],
   "source": [
    "folder_name = \"RTOC\"\n",
    "\n",
    "for chapter_no in chapter_range:\n",
    "    URL = f\"https://www.fortuneeternal.com/novel/a-regressors-tale-of-cultivation-raw-novel/chapter-{chapter_no}/\"\n",
    "    combined_text, valid_filename, chapter_heading = scrape(URL)\n",
    "    print(f\"Finished scraping: {chapter_heading}\")\n",
    "    print(f\"Translating: {chapter_heading}\")\n",
    "    translated_text = translate(combined_text)\n",
    "    print(f\"Finished translating: {chapter_heading}\")\n",
    "    create_translated_text_file(translated_text, folder_name, valid_filename)"
   ]
  },
  {
   "cell_type": "markdown",
   "metadata": {},
   "source": [
    "# Create EPUB"
   ]
  },
  {
   "cell_type": "code",
   "execution_count": 13,
   "metadata": {},
   "outputs": [
    {
     "name": "stdout",
     "output_type": "stream",
     "text": [
      "EPUB file created: EPUBS\\A Regressor's Tale of Cultivation - GPTL.epub\n"
     ]
    }
   ],
   "source": [
    "import os\n",
    "from ebooklib import epub\n",
    "\n",
    "book = epub.EpubBook()\n",
    "book.set_identifier('id123456')\n",
    "book.set_title(\"A Regressor's Tale of Cultivation - GPTL\")\n",
    "book.set_language('en')\n",
    "book.add_author('Tremendous - 엄청난')\n",
    "\n",
    "translated_folder = 'RTOC'\n",
    "\n",
    "for filename in os.listdir(translated_folder):\n",
    "    if filename.endswith('TRANSLATED.txt'):\n",
    "        with open(os.path.join(translated_folder, filename), 'r', encoding='utf-8') as file:\n",
    "            translated_text = file.read()\n",
    "        \n",
    "        # Use the filename (without extension) as the chapter heading\n",
    "        chapter_heading = filename.replace('TRANSLATED.txt', '').replace('_', ' ')\n",
    "        \n",
    "        # Create an EPUB chapter\n",
    "        chapter = epub.EpubHtml(title=chapter_heading, file_name=f'{filename}.xhtml', lang='en')\n",
    "        chapter.content = f'<h1>{chapter_heading}</h1><p>{translated_text.replace(\"\\n\", \"</p><p>\")}</p>'\n",
    "        \n",
    "        # Add chapter to the book\n",
    "        book.add_item(chapter)\n",
    "        book.toc.append(chapter)\n",
    "        book.spine.append(chapter)\n",
    "\n",
    "book.add_item(epub.EpubNcx())\n",
    "book.add_item(epub.EpubNav())\n",
    "\n",
    "style = 'BODY {color: white;}'\n",
    "nav_css = epub.EpubItem(uid=\"style_nav\", file_name=\"style/nav.css\", media_type=\"text/css\", content=style)\n",
    "book.add_item(nav_css)\n",
    "\n",
    "book.spine.append('nav')\n",
    "book.spine.append('cover')\n",
    "book.spine.append('title_page')\n",
    "\n",
    "folder_name = \"EPUBS\"\n",
    "os.makedirs(folder_name, exist_ok=True)\n",
    "\n",
    "epub_filename = os.path.join(folder_name, 'A Regressor\\'s Tale of Cultivation - GPTL.epub')\n",
    "epub.write_epub(epub_filename, book, {})\n",
    "\n",
    "print(f'EPUB file created: {epub_filename}')"
   ]
  },
  {
   "cell_type": "markdown",
   "metadata": {},
   "source": [
    "# Full Code Integration\n"
   ]
  },
  {
   "cell_type": "code",
   "execution_count": null,
   "metadata": {},
   "outputs": [],
   "source": [
    "book = epub.EpubBook()\n",
    "book.set_identifier('id123456')\n",
    "book.set_title(\"A Regressor's Tale of Cultivation - GPTL\")\n",
    "book.set_language('en')\n",
    "book.add_author('Tremendous - 엄청난')\n",
    "\n",
    "folder_name = \"RTOC\"\n",
    "\n",
    "for chapter_no in chapter_range:\n",
    "    URL = f\"https://www.fortuneeternal.com/novel/a-regressors-tale-of-cultivation-raw-novel/chapter-{chapter_no}/\"\n",
    "    combined_text, valid_filename, chapter_heading = scrape(URL)\n",
    "    print(f\"Finished scraping: {chapter_heading}\")\n",
    "    print(f\"Translating: {chapter_heading}\")\n",
    "    translated_text = translate(combined_text)\n",
    "    print(f\"Finished translating: {chapter_heading}\")\n",
    "    create_translated_text_file(translated_text, folder_name, valid_filename)\n",
    "    chapter = epub.EpubHtml(title=chapter_heading, file_name=f'{chapter_heading}.xhtml', lang='en')\n",
    "    chapter.content = f'<h1>{chapter_heading}</h1><p>{translated_text}</p>'\n",
    "    book.add_item(chapter)\n",
    "    book.toc.append(chapter)\n",
    "    book.spine.append(chapter)\n",
    "\n",
    "book.add_item(epub.EpubNcx())\n",
    "book.add_item(epub.EpubNav())\n",
    "\n",
    "style = 'BODY {color: white;}'\n",
    "nav_css = epub.EpubItem(uid=\"style_nav\", file_name=\"style/nav.css\", media_type=\"text/css\", content=style)\n",
    "book.add_item(nav_css)\n",
    "\n",
    "book.spine.append('nav')\n",
    "book.spine.append('cover')\n",
    "book.spine.append('title_page')\n",
    "\n",
    "epub.write_epub('A Regressor\\'s Tale of Cultivation - GPTL.epub', book, {})"
   ]
  },
  {
   "cell_type": "code",
   "execution_count": null,
   "metadata": {},
   "outputs": [],
   "source": [
    "# URL = f\"https://www.fortuneeternal.com/novel/a-regressors-tale-of-cultivation-raw-novel/chapter-{}/\"\n",
    "# URL = \"https://www.fortuneeternal.com/novel/i-became-a-flashing-genius-at-the-magic-academy-raw-novel/chapter-145/\""
   ]
  }
 ],
 "metadata": {
  "kernelspec": {
   "display_name": "lightnovelscraper",
   "language": "python",
   "name": "python3"
  },
  "language_info": {
   "codemirror_mode": {
    "name": "ipython",
    "version": 3
   },
   "file_extension": ".py",
   "mimetype": "text/x-python",
   "name": "python",
   "nbconvert_exporter": "python",
   "pygments_lexer": "ipython3",
   "version": "3.12.3"
  }
 },
 "nbformat": 4,
 "nbformat_minor": 2
}
