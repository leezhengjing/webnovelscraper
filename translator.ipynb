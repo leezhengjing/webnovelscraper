{
 "cells": [
  {
   "cell_type": "code",
   "execution_count": null,
   "metadata": {},
   "outputs": [],
   "source": [
    "import openai\n",
    "import os\n",
    "\n",
    "from dotenv import load_dotenv, find_dotenv\n",
    "_ = load_dotenv(find_dotenv())\n",
    "\n",
    "openai.api_key  = os.getenv('OPENAI_API_KEY')\n",
    "print(openai.api_key)"
   ]
  },
  {
   "cell_type": "code",
   "execution_count": null,
   "metadata": {},
   "outputs": [],
   "source": [
    "client = openai.OpenAI()\n",
    "\n",
    "def get_completion(prompt, model=\"gpt-3.5-turbo\"):\n",
    "    messages = [\n",
    "        {\"role\": \"system\", \"content\": \"You are a custom GPT called Novel Translator. Novel Translator specializes in translating fantasy, wuxia, and xianxia Chinese web novels into English, focusing on accurate translations of cultural references, idiomatic expressions, and genre-specific terminology like cultivator ranks and power systems. It ensures translations are well-formatted, capitalizing only the first letter of character names and leaving them untranslated (e.g., 'Yan Jianyue'). The GPT avoids incorrect translations of names and uses appropriate pronouns, aiming to include a glossary to prevent errors. It provides translations directly without additional conversation, focusing solely on the output quality and accuracy. Novel Translator will now be able to learn from already translated chapters to maintain consistency in style, tone, and formatting as exemplified by translations provided.\"},\n",
    "        {\"role\": \"user\", \"content\": prompt}\n",
    "    ]\n",
    "    response = client.chat.completions.create(\n",
    "        model=model,    \n",
    "        messages=messages,\n",
    "        temperature=0,\n",
    "    )\n",
    "    return response.choices[0].message.content"
   ]
  },
  {
   "cell_type": "code",
   "execution_count": null,
   "metadata": {},
   "outputs": [],
   "source": [
    "text = f\"\"\"\n",
    "마법학교 앞점멸 천재가 되었다 140 34. 여름방학(4) 제2본탑, 이한월의 교무실. “여행이라…….” 교관 이한월은 묘한 눈으로 여행 신청서를 들고 온 아이들을 바라보 았다. 홍비연 공주, 에이젤 대공녀, 풀레임. 정말 어울리지도 않는 세 명의 소 녀들이 대뜸 여행을 가겠다는데, 솔 직히 호기심을 가지지 않을 사람이 있을까. “안 되나요?” “그건 아니다만.” 마땅히 거부할 이유도 없기는 하 다. 여름방학이니까. “기간은 일주일이군. 어디로 가려 는 거지?” “라플라티 섬의 다이아몬드 해안이 요. 휴양지로 유명하잖아요.” “아, 그렇ス］. 한데…… 거기는 헌팅 지로 더 유명하지 않나? 설마 너희 들 성인 행세를 할 생각인 건 아니 겠지?” 움찔. 이한월의 말에 풀레임이 몸을 움찔 떨었다. 그냥 원작 로판에서 들었던 유명한 휴양지의 이름을 아무거나 주워다가 내뱉은 것이었는데, 설마 그런 뒷사정이 있을 줄이야. “에헤헤… 설마요.” “하기야, 너희 모두 얼굴이 워낙 유명해서 헌팅을 하고 싶어도 10대 인 게 금방 들키겠군. 모쪼록 쓸데 없는 사고는 치지 말도록.” “서핑과 썬탠! 그리고 따스한 햇살 아래에서 마시는 와인…이 아니라 포도 주스! 바닷가에서 할 수 있는 모든 것을 하고 돌아오겠습니다!” 콩! 이한월이 도장을 찍スト, 소녀들은 우르르 교무실을 빠져나왔다. “휴우. 라플라티 섬이 남녀 만남의 광장일 줄이야.” “저희는 10대인데 그런 걸 어떻게 알까요…….” “의외로 많아.” 대답한 사람은 홍비연이었다. 풀레임과 에이젤이 빤히 쳐다보자, 그녀는 큼큼 헛기침을 한 뒤에 대답 했다. “내 파벌원 증에서도 몇몇이 성인 인 척 바닷가에 놀러 가서 이성을 꼬셔보겠다고 유세를 떨더라고.” “와아…. 그런 사람이 진짜로 있군 요.” “어휴, 애새끼들이 벌써부터 발랑 까져가지곤.” “풀레임 씨는 꼭 어른인 것처럼 말 하시네요?” “나는 정신적으로 성숙하니까.” “아… 넵… 그러시군요.” 쓸데없는 이야기가 나오기 시작하 자 홍비연이 딱 잘라버렸다. “잡담은 됐고, 곧바로 출발하는 거 지?” “예. 맞아요. 지체할 이유는 없으니 까요.” **그럼 각자 짐 챙겨서 4번 워프 홀 게이트에서 보자고.” 그리 말한 뒤 쿨하게 사라지는 홍 비연. 에이젤은 그런 그녀의 뒷모습 을 보다가, 환호성이 들려오는 어딘 가를 바라보았다. 스텔라 돔. 아마도 지금쯤…… 학교 대항전에 참가할 신청자를 뽑기 위해 시험이 치러지고 있을 터. “왜? 아쉽냐?” 풀레임이 은근한 표정으로 묻자, 그녀는 씁쓸하게 고개를 저었다. “기대하고 있던 것이기는 하지만, 문제의 우선순위라는 게 있으니까 요. 저런 건 내년에도 얼마든지 참 가할 수 있어요.” “것두 맞지. 그래도 계획대로 일을 해결하고 오면 본선 경기 정도는 볼 수 있겠는데? 우리 학교에서는 누가 대표로 나가려나?” “글쎄요…… 학교 대항전은 아무래도 본인의 마 법 실력을 본격적으로 세상에 드러 낼 수 있는 이벤트라 에이젤도 기다 리던 것이었다. 하지만, 이제는 아무래도 괜찮다. 이미 아슬란 세미나를 통해 ‘모르 프’의 이름으로 마법을 널리 퍼뜨리 는 데에 성공해서 학교 대항전에 목 맬 필요는 없었다. 물론 그렇지 않다고 하더라도, ‘콘 스텔라티오 프로젝트’와 그 어떤 다 른 이벤트를 비교한다는 것 자체가 어불성설이기는 하다. “아무튼, 돌아와서 본선 경기 관람 을 즐기려면 성공적으로 이번 일을 끝마쳐야겠지?” “물론이죠.” 에이젤이 굳게 결심한 표정으로 고 개를 끄덕이자 풀레임은 귀여운 여 동생 보는 듯한 눈으로 그녀의 등을 툭툭 쳤다. “자, 그럼 가 보자고.” * * * 그녀들의 여행은 순탄한 듯, 순탄 하지 않았다. 워낙에 유명인들이 모 인 만큼 시끌벅적했기 때문이다. 라플라티 행 비행정 공항. “와…… 저기 홍비연 공주님이다.” “휴가 가시나 보네…….” “모델인 줄 알았어.” 심플한 흰색 원피스를 입은 홍비연 은 은색 여행용 캐리어에 한 손을 걸치고 다른 한 손은 자신의 골반에 걸친 채였는데, 코 끝에 걸린 검은 색 선글라스 너머로 저 멀리 어딘가 를 바라보는 그녀는 마치 이렇게 말 하는 듯했다. ‘찍어.’ 그 텔레파시를 알아들은 것일까, 홍비연에게 따라붙은 기자들이 그녀 의 모습을 다각도로 촬영하고 있었 다. 물론, 본인 또한 그것을 즐기고 있 었다. 자신의 움직임 하나하나에 사 람들이 따라붙고 그것이 화젯거리가 되며, 입었던 옷이 순식간에 10대 소녀들 사이에서 유행한다는 사실을 알아서 오늘 입은 이 심플한 원피스 도 신경을 쓴 것이다. 아마 조만간 이 원피스는 세계적으 로 유행을 타게 될 것이고, 많은 소 녀들이 옷을 구매해 놓고도 홍비연 처럼 입지 못한다는 사실에 눈물을 흘릴 것이다. “흐어어… 더워 죽겠네.” 그러든 말든 아무 신경도 안 쓰는 이도 있었다. 풀레임은 청색 핫팬츠에 청색 캡모 자, 흰색 나시티를 입고 있었는데 누가 봐도 평범한 패션이었지만 그 것을 완벽하게 소화해 냄으로써 패 완얼을 증명했다. 그에 비해, 에이젤은 사방에서 쏠 리는 시선을 상당히 신경 쓰며 머리 카락을 매만지고 있었다. ‘나도 좀 신경 써서 입을 걸 그랬 나…… 칠부바지에 하늘색 티셔츠라는 이 도저도 아닌 옷을 걸치고 나온 그녀 는 여름답게 시원스레 입은 홍비연 과 풀레임의 센스가 내심 부러웠으 나 애써 신경 쓰지 않는 척을 하였 다. 쏠리는 시선이야 이제는 크게 신경 쓰지 않는다. 부담이 상당히 되기는 했으나 악의적인 눈빛을 마시며 살 아온 에이젤이었기에 이 정도의 관 심은 문제없다. 잠시 뒤, 비행정에 탑승한 세 명의 소녀는 한마디의 대화조차 나누지 않은 채 각자 책을 펼쳤다. 홍비연은 유명인 매거진을. 풀레임은 이달의 트렌드 6월호를. 에이젤은… 고대 문명으로부터 마 법이 발전하여 인간이 힘을 가졌을 때 문명의 변화와 발전에 미친 유의 미한 영향과 역사의 흐름에 관해 객 관적으로 정리된 철학책을. ‘쾌적하네…….’ 흥비연의 사비로 세 명 모두 비즈 니스석에 탑승할 수 있었는데, 에이 젤로서는 난생처음인지라 모든 게 낯설었다. 도중에 홍비연을 성인으로 착각하 여 와인을 서빙하려던 승무원의 실 수를 제외하고서는 아무것도 신경 쓸 게 없었다. ‘이게 돈과 권력의 힘인가…… 잡지를 읽던 풀레임은 어느덧 쿨쿨 잠을 청하고 있었고, 홍비연은 이 지루한 와중에도 우아하게 창밖을 내다보고 있었다. 괜히 부담감을 느끼는 사람이 나밖 에 없다는 생각이 들어서 그녀는 애 써 편하게 의자에 누웠다. 정작 몸은 편하지만, 정신이 편하 지 못하다는 게 문제였거늘 그녀는 그런 사실을 전혀 인지하지 못하고 있었다. 그렇게 한참이나 침묵 속에서 비행 하고 있는데. “에이젤.” 문득, 홍비연이 불러왔다. 자신의 이름을 불렀음에도 너무나 도 자연스럽게 흘러가는 듯한 목소 리여서 순간 인지하지 못할 정도였 다. “아… 네?” “너는 평민을 살린 뒤, 어떻게 할 생각이지?” “……그게 무슨 의미죠?” 창밖을 내다보던 홍비연은 고개를 돌려 에이젤의 푸른색 눈동자를 마 주하였다. “그토록이나 그 평민의 삶에 집착 하는 이유가 있을 거 아니야. 그 이 유가 뭐냐고.” “그건…… 에이젤이 대답하지 못한 채 우물쭈 물 말끝을 흐리スト, 그럴 줄 알았다 는 듯 홍비연이 먼저 단호하게 말했 다. “나는 그 평민…… 백유설을 내 사 람으로 만들 생각이다.” “……네에?” 너무나도 갑작스러운 선언이었기 에, 에이젤은 그것을 완전히 받아들 이지 못하고■서 눈을 동그랗게 떴다. “당신의 사람으로 만든다니, 그건 “말 그대로의 의미다. 나는 백유설 을 내 곁에 둘 거야. 그러기 위해서 는… 수단과 방법을 가리지 않을 것 이고.” 그 ‘수단과 방법’에 정말, 정말로 많은 것이 포함되어 있다는 사실 정 도는 에이젤도 이해할 수 있었다. “네가 백유설의 목숨을 위해 애써 준 건 고맙게 생각한다. 하지만 내 가 너와 함께 움직이는 건, 이것이 마지막이야. 만약 네가 내 목표를 방해한다면…… 주저없이 너를 완전 히 배제할 자신이 있어.” 그 말에 에이젤은 떨리는 눈동자를 내리깔았다. 뭐라고 대답해야 할까. 저건, 일종의 선전포고였다. ‘이 물건은 내가 가질 거니까, 너 는 건들지 말고 꺼져라.’ 그런데 왜 그걸… 나한테 하는 걸 까? 바로 옆자리에 풀레임도 있는데 말이다. 머리로는 그렇게 생각하였지만, 이 미 가슴으로는 받아들이고 있었다. 왜 그러겠어. 뻔하잖아. ”..그러시든가요.” 에이젤은 다시 고개를 들어, 홍비 연의 붉은색 눈동자를 뚫어지도록 노려보았다. “노력하는 건 자유니까요.” 그러자 홍비연은 피식 웃고서 다시 창밖을 내다보았다. 네가 뭘 하든 상관없다는 태도였기에 순간 열이 뻗쳐 올랐으나, 이 또한 그녀가 도 발하는 방식이라는 점을 인지하고서 꾹 눌러 참았다. ‘이씨, 두고 봐 * * * 아르카니움의 한적한 카페. 커피 한 잔에 5,000$이라는 저렴 한 가격은 몇 없는 평민들의 마음을 사로잡기에는 충분했고, 그건 백유 설 역시도 마찬가지였다. 아는 사람들은 알겠지만 백유설은 이미 부자다. 그것도 떼부자. 그래서 그가 늘 이런 카페로 향한 다는 점에 의문을 가지는 사람은 많 았으나……. 사실 별 이유는 없었다. ‘멀리 가기 귀찮아서.’ 헬스장을 끊으려면 완벽한 운동기 구와 시설, 뛰어난 트레이너보다는 ‘가까운 곳’을 첫 번째 목표로 잡고 고르라고 하였다. 그래야만 헬스장에 개근할 테니까. 물론 백유설이 카페까지 와서 훈련 하려는 건 아니다만, 매일 30분씩 이렇게 나와서 커피를 즐기는 이유 는 사실 별것도 없이 정말로 여유를 만끽하기 위해서였다. 이건…… 지구에서 살던 시절의 버 릇이었다. 스텔라에 입학한 뒤 훈련과 학교를 병행하며 상당히 바쁘게 살아가고는 있다지만, 지구에서의 삶도 크게 다 르지는 않았다. 정신없이 현실을 살아가던 그에게 삶의 낙이 되어주었던 것은 점심 식 사 후 잠깐 즐기던 커피와 퇴근 후 즐기던 게임. 이곳에서는 게임을 즐길 수 없으 니…… 현실에서의 버릇대로 커피라 도 마시는 것이다. ‘아휴, 귀찮아.’ 그러나 그것도 최근에는 제대로 여 유를 즐길 수가 없었다. 이 세계에 는 텔레비전이나 컴퓨터도 없는 주 제에, ‘매직 스크린’이라고 해서 쓸 데없이 신문이나 뉴스 등이 빠르게 업로드되어 이슈의 전파가 굉장히 빠른 것이다. 최근에 유명세를 꽤 탔던 덕분일 까, 카페 곳곳에 잠복해 있는 기자 들의 따가운 시선이 부담스럽다. 몇 몇 학생들은 아예 대놓고 이쪽을 힐 끔거리고 있었는데, 구경하러 온 것 이 틀림없었다. ‘교환학생들인가.’ 그래도 뭐, 직접 말을 걸어오는 사 람은 없어서 다행이다. “저기…… 라고 생각하는 순간, 누군가가 다 가왔다. 고개를 들어서 확인하니, 머리카락 을 양갈래로 늘어뜨린 웬 귀염상의 소녀가 온몸을 배배 꼬며 서 있었다. “왜. 러브레터라도 주게?” “아, 아뇨! 그, 그건 아닌데…… “흐음…….” 모르는 교복. 모르는 인상착의. 이름은 아넬라……. 역시나, 처음 들어본다. 안경을 꺼내고 싶었으나 그전에 먼 저 아넬라가 무언가를 내밀었다. “그，혹시…… 사인해 주실 수 있 나 해서요…… “..사인?” 살다살다 이런 황당한 요구는 또 처음 들어봤지만, 그럴 수 있다는 생각이 들기도 했다. 어쨌든 유명해진 건 사실이니까. ‘생각해 보니, 원작 게임에서도 이 런 비슷한 게 있던가…….’ 특정 루트를 해금하고, ‘캐릭터 마 유성’을 플레이할 수 있게 된 유저 들에게 가끔 ‘사인회’라는 어처구니 없는 이벤트가 열리고는 했다. 그때마다 성향이나 매력 등의 부가 능력치가 상승하여 캐릭터를 예쁘고 멋있게 꾸미고 싶어 하는 플레이어 들이 자주 하고는 했는데 이렇게 직 접 받게 될 줄은 몰라서 조금은 황 당했다. “그러지 뭐.” 돈 드는 것도 아니고, 그래도 나 좋다고 찾아온 건데 거부할 이유도 없어서 백유설은 냉큼 종이를 받아 서 펜 뚜껑을 땄다. 그러スト, 갑작스레 아넬라가 백유설 의 어깨를 잡아채더니 얼굴을 가까 이 들이밀었다. “너, 뭐 하는…… “내 눈을 봐.” “뭐?” 스멀스멀……. 아넬라의 눈동자에서 무언가, 검은 색의 기류가 회오리치고 있었다. “지금 이게, 뭐, 하는 짓…….” 그것을 멍하니 바라보던 백유설의 동공이 서서히 풀리기 시작하자, 아 넬라는 회심의 미소를 지었다. ‘좋아, 성공이야!’ 아넬라가 가진 최고의 특성, ［악몽 의 재림］. 대상의 정신 속으로 깊게 파고들어 가장 깊은 트라우마를 유발하는… 세상에도 몇 없는 정신계 공격. 풍덩! 백유설이라는 이름의 바닷속으로 빠진 아넬라는 상쾌한 표정으로 주 위를 둘러보았다. 이곳은 그의 심상세계. 상대방의 마음을 읽는 말도 안 되 는 능력은 불가능하나, 먼 과거에 멸종된 ‘몽마족’의 특성을 일부 계 승받은 아넬라는 대상이 겪은 가장 아픈 과거를 꿈으로 화하여 훑어볼 수 있었다. 원하는 꿈을 볼 수 없으며, 무조건 가장 아픈 기억만이 눈앞에 펼쳐진 다는 게 단점이라면 단점이다. 왜냐, 시전자가 견디지 못하면 그 순간 피해자와 함께 정신이 붕괴되 어버릴 수도 있으니까. 하지만 그것도 아넬라에게는 해당 사항이 없는 일. 온갖 끔찍한 일을 겪으며 살아온 그녀에게 있어서, 어지간한 고통과 트라우마는 그저 조금 슬픈 비극을 구경하는 것에 불과했다. ‘자…… 어디, 아픈 고卜거를 조금 꼬집어 볼까?’ 조사해 본 결과 백유설의 과거는 꽤 아픈 기억으로 점철되어 있을 터. ‘너는 언제가 가장 절망적이었니?’ 고향을 잃었을 때? 부모님을 잃었을 때? 가장 친한 친구를 잃었을 때? ‘말만 흐ル 내가 봐줄 테니까.’ 아넬라는 그렇게 생각하며 바다를 향해 힘껏 팔을 펼쳐보았고. 푸욱! 그 순간, 그녀의 가슴을 관통하는 날카로운 가시. 푹! ‘컥……?’ 덜덜 떨리는 손으로, 가슴팍에 꽂 힌 가시를 바라보았다. 심장이 뛰지 않는다. 줄줄 새어 나오는 새빨간 선혈. ‘죽음.’ 백유설의 가장 아픈 과거는……. 죽음이었다. 그것도, 자신의 죽음. ‘어, 어떻게……?! 죽음이…… 가장 아픈 과거일 수가 있다고? ‘말도 안…… 그리 생각하는데, 이번에는 하늘에 서 거대한 비석이 떨어져서 아넬라 의 몸을 깔아뭉갰다. ‘꺽….’ 비명조차 지르지 못한 채 압사. -크아아아!! 그러나 고통을 떨쳐내기도 전에 어 디에선가 날아온 괴수가 그녀의 몸 을 잡아 뜯었고, 거대한 불길이 치 솟아 몸을 관통했으며, 날카로운 창 이 온몸을 난자하였고, 온갖 마법의 향연에 적중당해 산산조각 부서지기 도 했다. ‘살, 려줘…… 그녀는 정신없이 쏟아지는 ‘죽음’ 에 서서히, 서서히… 무너져 내려갔다.\n",
    "\"\"\"\n",
    "prompt = f\"\"\"\n",
    "Translate the text delimited by triple backticks into English. Make sure the text is well formatted with spacing between sentences.\n",
    "```{text}```\n",
    "\"\"\"\n",
    "response = get_completion(prompt)\n",
    "# # Export as txt\n",
    "# # Format the response to be more readable by separating each sentence\n",
    "# response = response.replace(\". \", \".\\n\")\n",
    "# response = response.replace(\"! \", \"!\\n\")\n",
    "# response = response.replace(\"? \", \"?\\n\")\n",
    "\n",
    "with open(\"output.txt\", \"w\") as f:\n",
    "    f.write(response)\n",
    "print(response)"
   ]
  },
  {
   "cell_type": "code",
   "execution_count": null,
   "metadata": {},
   "outputs": [],
   "source": [
    "\n",
    "import re\n",
    "\n",
    "def format_text(file_path):\n",
    "    with open(file_path, 'r') as file:\n",
    "        text = file.read()\n",
    "\n",
    "    # Split text into paragraphs\n",
    "    paragraphs = text.split('\\n\\n')\n",
    "\n",
    "    formatted_paragraphs = []\n",
    "    for paragraph in paragraphs:\n",
    "        # Split paragraph into sentences\n",
    "        sentences = re.split('(?<=[.!?]) +', paragraph)\n",
    "        # Capitalize the first letter of each sentence\n",
    "        sentences = [sentence.capitalize() for sentence in sentences]\n",
    "        # Join sentences back into a paragraph\n",
    "        formatted_paragraph = ' '.join(sentences)\n",
    "        formatted_paragraphs.append(formatted_paragraph)\n",
    "\n",
    "    # Join paragraphs back into the formatted text\n",
    "    formatted_text = '\\n\\n'.join(formatted_paragraphs)\n",
    "\n",
    "    return formatted_text\n",
    "\n",
    "def save_formatted_text(formatted_text, output_file_path):\n",
    "    with open(output_file_path, 'w') as file:\n",
    "        file.write(formatted_text)\n",
    "\n",
    "# Usage example\n",
    "input_file_path = 'Flash_Genius_Chapter_140.txt'  # Replace with your raw text file path\n",
    "output_file_path = 'Flash_Genius_Chapter_140_formatted.txt'  # Replace with your desired output file path\n",
    "\n",
    "formatted_text = format_text(input_file_path)\n",
    "save_formatted_text(formatted_text, output_file_path)\n",
    "\n",
    "print(\"Formatted text has been saved to\", output_file_path)\n"
   ]
  }
 ],
 "metadata": {
  "kernelspec": {
   "display_name": "lightnovelscraper",
   "language": "python",
   "name": "python3"
  },
  "language_info": {
   "name": "python",
   "version": "3.12.3"
  }
 },
 "nbformat": 4,
 "nbformat_minor": 2
}
