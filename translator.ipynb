{
 "cells": [
  {
   "cell_type": "code",
   "execution_count": 1,
   "metadata": {},
   "outputs": [],
   "source": [
    "import openai\n",
    "import os\n",
    "\n",
    "from dotenv import load_dotenv, find_dotenv\n",
    "_ = load_dotenv(find_dotenv())\n",
    "\n",
    "openai.api_key  = os.getenv('OPENAI_API_KEY')"
   ]
  },
  {
   "cell_type": "code",
   "execution_count": 2,
   "metadata": {},
   "outputs": [],
   "source": [
    "client = openai.OpenAI()\n",
    "\n",
    "def get_completion(prompt, model=\"gpt-4o\"):\n",
    "    messages = [\n",
    "        {\"role\": \"system\", \"content\": \"You are a custom GPT called Novel Translator. Novel Translator specializes in translating fantasy, wuxia, and xianxia Chinese web novels into English, focusing on accurate translations of cultural references, idiomatic expressions, and genre-specific terminology like cultivator ranks and power systems. It ensures translations are well-formatted, capitalizing only the first letter of character names and leaving them untranslated (e.g., 'Yan Jianyue'). The GPT avoids incorrect translations of names and uses appropriate pronouns, aiming to include a glossary to prevent errors. It provides translations directly without additional conversation, focusing solely on the output quality and accuracy. Novel Translator will now be able to learn from already translated chapters to maintain consistency in style, tone, and formatting as exemplified by translations provided.\"},\n",
    "        {\"role\": \"user\", \"content\": prompt}\n",
    "    ]\n",
    "    response = client.chat.completions.create(\n",
    "        model=model,    \n",
    "        messages=messages,\n",
    "        temperature=0,\n",
    "    )\n",
    "    return response.choices[0].message.content"
   ]
  },
  {
   "cell_type": "code",
   "execution_count": 3,
   "metadata": {},
   "outputs": [],
   "source": [
    "import requests\n",
    "from bs4 import BeautifulSoup\n",
    "import re\n",
    "import os\n",
    "from ebooklib import epub"
   ]
  },
  {
   "cell_type": "markdown",
   "metadata": {},
   "source": [
    "## Scrape and Translate"
   ]
  },
  {
   "cell_type": "code",
   "execution_count": 4,
   "metadata": {},
   "outputs": [],
   "source": [
    "\n",
    "def scrape(chapter_url):\n",
    "    html_text = requests.get(chapter_url).text\n",
    "    soup = BeautifulSoup(html_text, 'lxml')\n",
    "\n",
    "    # Find the chapter heading\n",
    "    chapter_heading = soup.find('h1', id='chapter-heading').get_text()\n",
    "\n",
    "    # Sanitize the chapter heading to create a valid filename\n",
    "    valid_filename = re.sub(r'[^\\w\\-_\\. ]', '_', chapter_heading)\n",
    "\n",
    "    # Find the div with class 'text-left'\n",
    "    text_left_div = soup.find('div', class_='text-left')\n",
    "\n",
    "    # Find all <p> elements within this div\n",
    "    paragraphs = text_left_div.find_all('p')\n",
    "\n",
    "    # Combine the text of each <p> element into one string\n",
    "    combined_text = ' '.join(p.get_text() for p in paragraphs)\n",
    "\n",
    "    # Create the folder if it doesn't exist\n",
    "    # folder_name = 'Flashing_Genius'\n",
    "    # folder_name = 'RTOC'\n",
    "    return combined_text, valid_filename, chapter_heading\n",
    "def translate(combined_text):\n",
    "    prompt = f\"\"\"\n",
    "Translate the text delimited by triple backticks into English. Make sure the text is well formatted with spacing between sentences.\n",
    "```{combined_text}```\n",
    "\"\"\"\n",
    "    translated_text = get_completion(prompt)\n",
    "    # with open(os.path.join(folder_name,f'{valid_filename}TRANSLATED.txt'), \"w\") as f:\n",
    "    #     f.write(response)\n",
    "    # print(response)\n",
    "    return translated_text\n",
    "def create_raw_text_file(translated_text, folder_name, valid_filename):\n",
    "    with open(os.path.join(folder_name,f'{valid_filename}.txt'), \"w\") as f:\n",
    "        f.write(translated_text)\n",
    "def create_text_file(translated_text, folder_name, valid_filename):\n",
    "    with open(os.path.join(folder_name,f'{valid_filename}TRANSLATED.txt'), \"w\") as f:\n",
    "        f.write(translated_text)"
   ]
  },
  {
   "cell_type": "code",
   "execution_count": 8,
   "metadata": {},
   "outputs": [],
   "source": [
    "chapter_range = [num for num in range(313, 409)]"
   ]
  },
  {
   "cell_type": "markdown",
   "metadata": {},
   "source": [
    "# Create Raw Files"
   ]
  },
  {
   "cell_type": "code",
   "execution_count": 9,
   "metadata": {},
   "outputs": [],
   "source": [
    "for chapter_num in chapter_range:\n",
    "    chapter_url = f\"https://www.fortuneeternal.com/novel/a-regressors-tale-of-cultivation-raw-novel/chapter-{chapter_num}/\"\n",
    "    combined_text, valid_filename, chapter_heading = scrape(chapter_url)\n",
    "    create_raw_text_file(combined_text, 'RTOC-raw', valid_filename)"
   ]
  },
  {
   "cell_type": "markdown",
   "metadata": {},
   "source": [
    "# Create EPUB"
   ]
  },
  {
   "cell_type": "code",
   "execution_count": 22,
   "metadata": {},
   "outputs": [
    {
     "name": "stdout",
     "output_type": "stream",
     "text": [
      "Finished scraping: A Regressor’s Tale of Cultivation RAW novel - Chapter (288)\n",
      "Translating: A Regressor’s Tale of Cultivation RAW novel - Chapter (288)\n",
      "Finished translating: A Regressor’s Tale of Cultivation RAW novel - Chapter (288)\n",
      "Finished scraping: A Regressor’s Tale of Cultivation RAW novel - Chapter (289)\n",
      "Translating: A Regressor’s Tale of Cultivation RAW novel - Chapter (289)\n",
      "Finished translating: A Regressor’s Tale of Cultivation RAW novel - Chapter (289)\n",
      "Finished scraping: A Regressor’s Tale of Cultivation RAW novel - Chapter (290)\n",
      "Translating: A Regressor’s Tale of Cultivation RAW novel - Chapter (290)\n",
      "Finished translating: A Regressor’s Tale of Cultivation RAW novel - Chapter (290)\n",
      "Finished scraping: A Regressor’s Tale of Cultivation RAW novel - Chapter (291)\n",
      "Translating: A Regressor’s Tale of Cultivation RAW novel - Chapter (291)\n",
      "Finished translating: A Regressor’s Tale of Cultivation RAW novel - Chapter (291)\n",
      "Finished scraping: A Regressor’s Tale of Cultivation RAW novel - Chapter (292)\n",
      "Translating: A Regressor’s Tale of Cultivation RAW novel - Chapter (292)\n",
      "Finished translating: A Regressor’s Tale of Cultivation RAW novel - Chapter (292)\n",
      "Finished scraping: A Regressor’s Tale of Cultivation RAW novel - Chapter (293)\n",
      "Translating: A Regressor’s Tale of Cultivation RAW novel - Chapter (293)\n",
      "Finished translating: A Regressor’s Tale of Cultivation RAW novel - Chapter (293)\n",
      "Finished scraping: A Regressor’s Tale of Cultivation RAW novel - Chapter (294)\n",
      "Translating: A Regressor’s Tale of Cultivation RAW novel - Chapter (294)\n",
      "Finished translating: A Regressor’s Tale of Cultivation RAW novel - Chapter (294)\n",
      "Finished scraping: A Regressor’s Tale of Cultivation RAW novel - Chapter (295)\n",
      "Translating: A Regressor’s Tale of Cultivation RAW novel - Chapter (295)\n",
      "Finished translating: A Regressor’s Tale of Cultivation RAW novel - Chapter (295)\n",
      "Finished scraping: A Regressor’s Tale of Cultivation RAW novel - Chapter (296)\n",
      "Translating: A Regressor’s Tale of Cultivation RAW novel - Chapter (296)\n",
      "Finished translating: A Regressor’s Tale of Cultivation RAW novel - Chapter (296)\n",
      "Finished scraping: A Regressor’s Tale of Cultivation RAW novel - Chapter (297)\n",
      "Translating: A Regressor’s Tale of Cultivation RAW novel - Chapter (297)\n",
      "Finished translating: A Regressor’s Tale of Cultivation RAW novel - Chapter (297)\n",
      "Finished scraping: A Regressor’s Tale of Cultivation RAW novel - Chapter (298)\n",
      "Translating: A Regressor’s Tale of Cultivation RAW novel - Chapter (298)\n",
      "Finished translating: A Regressor’s Tale of Cultivation RAW novel - Chapter (298)\n",
      "Finished scraping: A Regressor’s Tale of Cultivation RAW novel - Chapter (299)\n",
      "Translating: A Regressor’s Tale of Cultivation RAW novel - Chapter (299)\n",
      "Finished translating: A Regressor’s Tale of Cultivation RAW novel - Chapter (299)\n",
      "Finished scraping: A Regressor’s Tale of Cultivation RAW novel - Chapter (300)\n",
      "Translating: A Regressor’s Tale of Cultivation RAW novel - Chapter (300)\n",
      "Finished translating: A Regressor’s Tale of Cultivation RAW novel - Chapter (300)\n",
      "Finished scraping: A Regressor’s Tale of Cultivation RAW novel - Chapter (301)\n",
      "Translating: A Regressor’s Tale of Cultivation RAW novel - Chapter (301)\n",
      "Finished translating: A Regressor’s Tale of Cultivation RAW novel - Chapter (301)\n",
      "Finished scraping: A Regressor’s Tale of Cultivation RAW novel - Chapter (302)\n",
      "Translating: A Regressor’s Tale of Cultivation RAW novel - Chapter (302)\n",
      "Finished translating: A Regressor’s Tale of Cultivation RAW novel - Chapter (302)\n",
      "Finished scraping: A Regressor’s Tale of Cultivation RAW novel - Chapter (303)\n",
      "Translating: A Regressor’s Tale of Cultivation RAW novel - Chapter (303)\n",
      "Finished translating: A Regressor’s Tale of Cultivation RAW novel - Chapter (303)\n",
      "Finished scraping: A Regressor’s Tale of Cultivation RAW novel - Chapter (304)\n",
      "Translating: A Regressor’s Tale of Cultivation RAW novel - Chapter (304)\n",
      "Finished translating: A Regressor’s Tale of Cultivation RAW novel - Chapter (304)\n",
      "Finished scraping: A Regressor’s Tale of Cultivation RAW novel - Chapter (305)\n",
      "Translating: A Regressor’s Tale of Cultivation RAW novel - Chapter (305)\n",
      "Finished translating: A Regressor’s Tale of Cultivation RAW novel - Chapter (305)\n",
      "Finished scraping: A Regressor’s Tale of Cultivation RAW novel - Chapter (306)\n",
      "Translating: A Regressor’s Tale of Cultivation RAW novel - Chapter (306)\n",
      "Finished translating: A Regressor’s Tale of Cultivation RAW novel - Chapter (306)\n",
      "Finished scraping: A Regressor’s Tale of Cultivation RAW novel - Chapter (307)\n",
      "Translating: A Regressor’s Tale of Cultivation RAW novel - Chapter (307)\n",
      "Finished translating: A Regressor’s Tale of Cultivation RAW novel - Chapter (307)\n",
      "Finished scraping: A Regressor’s Tale of Cultivation RAW novel - Chapter (308)\n",
      "Translating: A Regressor’s Tale of Cultivation RAW novel - Chapter (308)\n",
      "Finished translating: A Regressor’s Tale of Cultivation RAW novel - Chapter (308)\n",
      "Finished scraping: A Regressor’s Tale of Cultivation RAW novel - Chapter (309)\n",
      "Translating: A Regressor’s Tale of Cultivation RAW novel - Chapter (309)\n",
      "Finished translating: A Regressor’s Tale of Cultivation RAW novel - Chapter (309)\n",
      "Finished scraping: A Regressor’s Tale of Cultivation RAW novel - Chapter (310)\n",
      "Translating: A Regressor’s Tale of Cultivation RAW novel - Chapter (310)\n",
      "Finished translating: A Regressor’s Tale of Cultivation RAW novel - Chapter (310)\n",
      "Finished scraping: A Regressor’s Tale of Cultivation RAW novel - Chapter (311)\n",
      "Translating: A Regressor’s Tale of Cultivation RAW novel - Chapter (311)\n",
      "Finished translating: A Regressor’s Tale of Cultivation RAW novel - Chapter (311)\n",
      "Finished scraping: A Regressor’s Tale of Cultivation RAW novel - Chapter (312)\n",
      "Translating: A Regressor’s Tale of Cultivation RAW novel - Chapter (312)\n"
     ]
    }
   ],
   "source": [
    "book = epub.EpubBook()\n",
    "book.set_identifier('id123456')\n",
    "book.set_title(\"A Regressor's Tale of Cultivation - GPTL\")\n",
    "book.set_language('en')\n",
    "book.add_author('Tremendous - 엄청난')\n",
    "\n",
    "folder_name = \"RTOC\"\n",
    "\n",
    "for chapter_no in chapter_range:\n",
    "    URL = f\"https://www.fortuneeternal.com/novel/a-regressors-tale-of-cultivation-raw-novel/chapter-{chapter_no}/\"\n",
    "    combined_text, valid_filename, chapter_heading = scrape(URL)\n",
    "    print(f\"Finished scraping: {chapter_heading}\")\n",
    "    print(f\"Translating: {chapter_heading}\")\n",
    "    translated_text = translate(combined_text)\n",
    "    print(f\"Finished translating: {chapter_heading}\")\n",
    "    create_text_file(translated_text, folder_name, valid_filename)\n",
    "    chapter = epub.EpubHtml(title=chapter_heading, file_name=f'{chapter_heading}.xhtml', lang='en')\n",
    "    chapter.content = f'<h1>{chapter_heading}</h1><p>{translated_text}</p>'\n",
    "    book.add_item(chapter)\n",
    "    book.toc.append(chapter)\n",
    "    book.spine.append(chapter)\n",
    "\n",
    "book.add_item(epub.EpubNcx())\n",
    "book.add_item(epub.EpubNav())\n",
    "\n",
    "style = 'BODY {color: white;}'\n",
    "nav_css = epub.EpubItem(uid=\"style_nav\", file_name=\"style/nav.css\", media_type=\"text/css\", content=style)\n",
    "book.add_item(nav_css)\n",
    "\n",
    "book.spine.append('nav')\n",
    "book.spine.append('cover')\n",
    "book.spine.append('title_page')\n",
    "\n",
    "epub.write_epub('A Regressor\\'s Tale of Cultivation - GPTL.epub', book, {})"
   ]
  },
  {
   "cell_type": "code",
   "execution_count": null,
   "metadata": {},
   "outputs": [],
   "source": [
    "URL = f\"https://www.fortuneeternal.com/novel/a-regressors-tale-of-cultivation-raw-novel/chapter-{}/\"\n",
    "# URL = \"https://www.fortuneeternal.com/novel/i-became-a-flashing-genius-at-the-magic-academy-raw-novel/chapter-145/\""
   ]
  }
 ],
 "metadata": {
  "kernelspec": {
   "display_name": "lightnovelscraper",
   "language": "python",
   "name": "python3"
  },
  "language_info": {
   "codemirror_mode": {
    "name": "ipython",
    "version": 3
   },
   "file_extension": ".py",
   "mimetype": "text/x-python",
   "name": "python",
   "nbconvert_exporter": "python",
   "pygments_lexer": "ipython3",
   "version": "3.12.3"
  }
 },
 "nbformat": 4,
 "nbformat_minor": 2
}
